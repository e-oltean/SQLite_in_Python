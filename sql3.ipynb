{
  "nbformat": 4,
  "nbformat_minor": 0,
  "metadata": {
    "colab": {
      "provenance": []
    },
    "kernelspec": {
      "name": "python3",
      "display_name": "Python 3"
    },
    "language_info": {
      "name": "python"
    }
  },
  "cells": [
    {
      "cell_type": "code",
      "source": [
        "import sqlite3"
      ],
      "metadata": {
        "id": "B3EVCT_rT1_n"
      },
      "execution_count": 3,
      "outputs": []
    },
    {
      "cell_type": "code",
      "source": [
        "cnt=sqlite3.connect(\"gtadb.db\")"
      ],
      "metadata": {
        "id": "p_0ylmx1Un2Q"
      },
      "execution_count": 5,
      "outputs": []
    },
    {
      "cell_type": "code",
      "source": [
        "cursor=cnt.cursor()"
      ],
      "metadata": {
        "id": "uulfzkM5VHLB"
      },
      "execution_count": 6,
      "outputs": []
    },
    {
      "cell_type": "code",
      "source": [
        "cursor.execute(\"CREATE TABLE gtatb(release_year INTEGER,game_name TEXT,console TEXT)\")"
      ],
      "metadata": {
        "colab": {
          "base_uri": "https://localhost:8080/"
        },
        "id": "BiBeYhG1VkWB",
        "outputId": "4429ff7e-6d27-45a4-a70a-e640d1213dbd"
      },
      "execution_count": 8,
      "outputs": [
        {
          "output_type": "execute_result",
          "data": {
            "text/plain": [
              "<sqlite3.Cursor at 0x7fd794f61bc0>"
            ]
          },
          "metadata": {},
          "execution_count": 8
        }
      ]
    },
    {
      "cell_type": "code",
      "source": [
        "release_list = [\n",
        "    (1997, \"Grand Theft Auto\", \"state of New Guernsey\"),\n",
        "    (1999, \"Grand Theft Auto 2\", \"Anywhere, USA\"),\n",
        "    (2001, \"Grand Theft Auto III\", \"Liberty City\"),\n",
        "    (2002, \"Grand Theft Auto: Vice City\", \"Vice City\"),\n",
        "    (2004, \"Grand Theft Auto: San Andreas\", \"state of San Andreas\"),\n",
        "    (2008, \"Grand Theft Auto IV\", \"Liberty City\"),\n",
        "    (2013, \"Grand Theft Auto V\", \"Los Santos\")\n",
        "]"
      ],
      "metadata": {
        "id": "IgEp_QsFTg5H"
      },
      "execution_count": 4,
      "outputs": []
    },
    {
      "cell_type": "code",
      "source": [
        "cursor.executemany(\"INSERT INTO gtatb VALUES(?,?,?)\",release_list)"
      ],
      "metadata": {
        "colab": {
          "base_uri": "https://localhost:8080/"
        },
        "id": "rUVEjY1cUfRj",
        "outputId": "33f65888-8d81-4fbe-a2a6-69d8fa0bb6e3"
      },
      "execution_count": 10,
      "outputs": [
        {
          "output_type": "execute_result",
          "data": {
            "text/plain": [
              "<sqlite3.Cursor at 0x7fd794f61bc0>"
            ]
          },
          "metadata": {},
          "execution_count": 10
        }
      ]
    },
    {
      "cell_type": "markdown",
      "source": [],
      "metadata": {
        "id": "rQ2DWxeQdmRO"
      }
    },
    {
      "cell_type": "code",
      "source": [
        "#print database rows\n",
        "for row in cursor.execute(\"SELECT * FROM gtatb\"):\n",
        "  print(row)"
      ],
      "metadata": {
        "colab": {
          "base_uri": "https://localhost:8080/"
        },
        "id": "7BJYGlSgYDZ8",
        "outputId": "0eee7d0d-6e2b-47ca-b171-b655debbc9cd"
      },
      "execution_count": 14,
      "outputs": [
        {
          "output_type": "stream",
          "name": "stdout",
          "text": [
            "(1997, 'Grand Theft Auto', 'state of New Guernsey')\n",
            "(1999, 'Grand Theft Auto 2', 'Anywhere, USA')\n",
            "(2001, 'Grand Theft Auto III', 'Liberty City')\n",
            "(2002, 'Grand Theft Auto: Vice City', 'Vice City')\n",
            "(2004, 'Grand Theft Auto: San Andreas', 'state of San Andreas')\n",
            "(2008, 'Grand Theft Auto IV', 'Liberty City')\n",
            "(2013, 'Grand Theft Auto V', 'Los Santos')\n"
          ]
        }
      ]
    },
    {
      "cell_type": "code",
      "source": [
        "#print specific rows\n",
        "cursor.execute(\"SELECT game_name FROM gtatb where city=:c\", {\"c\":\"Liberty City\"})\n",
        "\n",
        "print(cursor.fetchall())"
      ],
      "metadata": {
        "collapsed": true,
        "id": "nlDmYLdDbAIL"
      },
      "execution_count": null,
      "outputs": []
    },
    {
      "cell_type": "code",
      "metadata": {
        "colab": {
          "base_uri": "https://localhost:8080/"
        },
        "id": "fe616c5d",
        "outputId": "2dad764f-82ba-4eeb-d336-4afa901b7a93"
      },
      "source": [
        "#print specific rows\n",
        "cursor.execute(\"SELECT game_name FROM gtatb where console=:c\", {\"c\":\"Liberty City\"})\n",
        "\n",
        "print(cursor.fetchall())\n",
        "\n"
      ],
      "execution_count": 15,
      "outputs": [
        {
          "output_type": "stream",
          "name": "stdout",
          "text": [
            "[('Grand Theft Auto III',), ('Grand Theft Auto IV',)]\n"
          ]
        }
      ]
    },
    {
      "cell_type": "code",
      "source": [
        "cursor.execute(\"CREATE TABLE cities(gtatb_city text, real_city text)\")\n",
        "cursor.execute(\"INSERT INTO cities VALUES(?,?)\",(\"Liberty City\",\"New York\"))\n",
        "cursor.execute(\"INSERT INTO cities VALUES(?,?)\",(\"Los Santos\",\"California\"))\n",
        "cities_search=cursor.fetchall()\n",
        "print(cities_search)"
      ],
      "metadata": {
        "colab": {
          "base_uri": "https://localhost:8080/",
          "height": 211
        },
        "collapsed": true,
        "id": "gLwkRXLTds6P",
        "outputId": "8c3a8db2-7ff5-497c-d6ba-20dfed98e02a"
      },
      "execution_count": 17,
      "outputs": [
        {
          "output_type": "error",
          "ename": "OperationalError",
          "evalue": "table cities already exists",
          "traceback": [
            "\u001b[0;31m---------------------------------------------------------------------------\u001b[0m",
            "\u001b[0;31mOperationalError\u001b[0m                          Traceback (most recent call last)",
            "\u001b[0;32m/tmp/ipython-input-17-2604599900.py\u001b[0m in \u001b[0;36m<cell line: 0>\u001b[0;34m()\u001b[0m\n\u001b[0;32m----> 1\u001b[0;31m \u001b[0mcursor\u001b[0m\u001b[0;34m.\u001b[0m\u001b[0mexecute\u001b[0m\u001b[0;34m(\u001b[0m\u001b[0;34m\"CREATE TABLE cities(gtatb_city text, real_city text)\"\u001b[0m\u001b[0;34m)\u001b[0m\u001b[0;34m\u001b[0m\u001b[0;34m\u001b[0m\u001b[0m\n\u001b[0m\u001b[1;32m      2\u001b[0m \u001b[0mcursor\u001b[0m\u001b[0;34m.\u001b[0m\u001b[0mexecute\u001b[0m\u001b[0;34m(\u001b[0m\u001b[0;34m\"INSERT INTO cities VALUES(?,?)\"\u001b[0m\u001b[0;34m,\u001b[0m\u001b[0;34m(\u001b[0m\u001b[0;34m\"Liberty City\"\u001b[0m\u001b[0;34m,\u001b[0m\u001b[0;34m\"New York\"\u001b[0m\u001b[0;34m)\u001b[0m\u001b[0;34m)\u001b[0m\u001b[0;34m\u001b[0m\u001b[0;34m\u001b[0m\u001b[0m\n\u001b[1;32m      3\u001b[0m \u001b[0mcursor\u001b[0m\u001b[0;34m.\u001b[0m\u001b[0mexecute\u001b[0m\u001b[0;34m(\u001b[0m\u001b[0;34m\"INSERT INTO cities VALUES(?,?)\"\u001b[0m\u001b[0;34m,\u001b[0m\u001b[0;34m(\u001b[0m\u001b[0;34m\"Los Santos\"\u001b[0m\u001b[0;34m,\u001b[0m\u001b[0;34m\"California\"\u001b[0m\u001b[0;34m)\u001b[0m\u001b[0;34m)\u001b[0m\u001b[0;34m\u001b[0m\u001b[0;34m\u001b[0m\u001b[0m\n\u001b[1;32m      4\u001b[0m \u001b[0mcities_search\u001b[0m\u001b[0;34m=\u001b[0m\u001b[0mcursor\u001b[0m\u001b[0;34m.\u001b[0m\u001b[0mfetchall\u001b[0m\u001b[0;34m(\u001b[0m\u001b[0;34m)\u001b[0m\u001b[0;34m\u001b[0m\u001b[0;34m\u001b[0m\u001b[0m\n\u001b[1;32m      5\u001b[0m \u001b[0mprint\u001b[0m\u001b[0;34m(\u001b[0m\u001b[0mcities_search\u001b[0m\u001b[0;34m)\u001b[0m\u001b[0;34m\u001b[0m\u001b[0;34m\u001b[0m\u001b[0m\n",
            "\u001b[0;31mOperationalError\u001b[0m: table cities already exists"
          ]
        }
      ]
    },
    {
      "cell_type": "code",
      "metadata": {
        "colab": {
          "base_uri": "https://localhost:8080/"
        },
        "id": "ffcb2f0c",
        "outputId": "d52d02d0-3bc2-4c15-ee23-0f51f5ea75fd"
      },
      "source": [
        "cursor.execute(\"DROP TABLE IF EXISTS cities\")\n",
        "cursor.execute(\"CREATE TABLE cities(gtatb_city text, real_city text)\")\n",
        "cursor.execute(\"INSERT INTO cities VALUES(?,?)\",(\"Liberty City\",\"New York\"))\n",
        "cursor.execute(\"INSERT INTO cities VALUES(?,?)\",(\"Los Santos\",\"California\"))\n",
        "cities_search=cursor.fetchall()\n",
        "print(cities_search)"
      ],
      "execution_count": 18,
      "outputs": [
        {
          "output_type": "stream",
          "name": "stdout",
          "text": [
            "[]\n"
          ]
        }
      ]
    }
  ]
}