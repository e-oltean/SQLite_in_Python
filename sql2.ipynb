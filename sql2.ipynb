{
  "nbformat": 4,
  "nbformat_minor": 0,
  "metadata": {
    "colab": {
      "provenance": []
    },
    "kernelspec": {
      "name": "python3",
      "display_name": "Python 3"
    },
    "language_info": {
      "name": "python"
    }
  },
  "cells": [
    {
      "cell_type": "code",
      "execution_count": null,
      "metadata": {
        "id": "oGQZiV6eg-bw"
      },
      "outputs": [],
      "source": []
    },
    {
      "cell_type": "code",
      "source": [
        "!wget https://archive.ics.uci.edu/dataset/235/individual+household+electric+power+consumption"
      ],
      "metadata": {
        "colab": {
          "base_uri": "https://localhost:8080/"
        },
        "id": "PuVQEr99qLdM",
        "outputId": "674e5743-f827-4372-fc8b-061e9e1f827b"
      },
      "execution_count": 1,
      "outputs": [
        {
          "output_type": "stream",
          "name": "stdout",
          "text": [
            "--2025-07-13 16:41:20--  https://archive.ics.uci.edu/dataset/235/individual+household+electric+power+consumption\n",
            "Resolving archive.ics.uci.edu (archive.ics.uci.edu)... 128.195.10.252\n",
            "Connecting to archive.ics.uci.edu (archive.ics.uci.edu)|128.195.10.252|:443... connected.\n",
            "HTTP request sent, awaiting response... 200 OK\n",
            "Length: 132013 (129K) [text/html]\n",
            "Saving to: ‘individual+household+electric+power+consumption’\n",
            "\n",
            "individual+househol 100%[===================>] 128.92K  --.-KB/s    in 0.08s   \n",
            "\n",
            "2025-07-13 16:41:21 (1.56 MB/s) - ‘individual+household+electric+power+consumption’ saved [132013/132013]\n",
            "\n"
          ]
        }
      ]
    },
    {
      "cell_type": "code",
      "source": [
        "!unzip /content/individual+household+electric+power+consumption.zip"
      ],
      "metadata": {
        "colab": {
          "base_uri": "https://localhost:8080/"
        },
        "id": "myw-UqiPsmJb",
        "outputId": "dc476b68-2e9f-4ea2-b6b4-3e5d679ddc36"
      },
      "execution_count": 4,
      "outputs": [
        {
          "output_type": "stream",
          "name": "stdout",
          "text": [
            "Archive:  /content/individual+household+electric+power+consumption.zip\n",
            "  inflating: household_power_consumption.txt  \n"
          ]
        }
      ]
    },
    {
      "cell_type": "code",
      "source": [
        "!head /content/household_power_consumption.txt"
      ],
      "metadata": {
        "colab": {
          "base_uri": "https://localhost:8080/"
        },
        "id": "BEzxgSLEsmas",
        "outputId": "7069f48e-5599-4f64-bb00-031d1cdfe9da"
      },
      "execution_count": 5,
      "outputs": [
        {
          "output_type": "stream",
          "name": "stdout",
          "text": [
            "Date;Time;Global_active_power;Global_reactive_power;Voltage;Global_intensity;Sub_metering_1;Sub_metering_2;Sub_metering_3\r\n",
            "16/12/2006;17:24:00;4.216;0.418;234.840;18.400;0.000;1.000;17.000\r\n",
            "16/12/2006;17:25:00;5.360;0.436;233.630;23.000;0.000;1.000;16.000\r\n",
            "16/12/2006;17:26:00;5.374;0.498;233.290;23.000;0.000;2.000;17.000\r\n",
            "16/12/2006;17:27:00;5.388;0.502;233.740;23.000;0.000;1.000;17.000\r\n",
            "16/12/2006;17:28:00;3.666;0.528;235.680;15.800;0.000;1.000;17.000\r\n",
            "16/12/2006;17:29:00;3.520;0.522;235.020;15.000;0.000;2.000;17.000\r\n",
            "16/12/2006;17:30:00;3.702;0.520;235.090;15.800;0.000;1.000;17.000\r\n",
            "16/12/2006;17:31:00;3.700;0.520;235.220;15.800;0.000;1.000;17.000\r\n",
            "16/12/2006;17:32:00;3.668;0.510;233.990;15.800;0.000;1.000;17.000\r\n"
          ]
        }
      ]
    },
    {
      "cell_type": "code",
      "source": [
        "import sqlite3\n",
        "import pandas as pd\n",
        "import csv"
      ],
      "metadata": {
        "id": "XnkciXIDvaXK"
      },
      "execution_count": 6,
      "outputs": []
    },
    {
      "cell_type": "code",
      "source": [
        "data=pd.read_csv(\"/content/household_power_consumption.txt\")"
      ],
      "metadata": {
        "id": "WbwbxJb3vp1s"
      },
      "execution_count": 11,
      "outputs": []
    },
    {
      "cell_type": "code",
      "source": [
        "df=pd.read_csv(\"/content/household_power_consumption.txt\", sep=';', low_memory=False)"
      ],
      "metadata": {
        "collapsed": true,
        "id": "EwCEgE8gxKgT"
      },
      "execution_count": 14,
      "outputs": []
    },
    {
      "cell_type": "code",
      "source": [
        "df.head()"
      ],
      "metadata": {
        "colab": {
          "base_uri": "https://localhost:8080/",
          "height": 206
        },
        "id": "aBn7zo_kx463",
        "outputId": "ff5d0731-01b1-4403-f402-4ed8d87e2ee4"
      },
      "execution_count": 15,
      "outputs": [
        {
          "output_type": "execute_result",
          "data": {
            "text/plain": [
              "         Date      Time Global_active_power Global_reactive_power  Voltage  \\\n",
              "0  16/12/2006  17:24:00               4.216                 0.418  234.840   \n",
              "1  16/12/2006  17:25:00               5.360                 0.436  233.630   \n",
              "2  16/12/2006  17:26:00               5.374                 0.498  233.290   \n",
              "3  16/12/2006  17:27:00               5.388                 0.502  233.740   \n",
              "4  16/12/2006  17:28:00               3.666                 0.528  235.680   \n",
              "\n",
              "  Global_intensity Sub_metering_1 Sub_metering_2  Sub_metering_3  \n",
              "0           18.400          0.000          1.000            17.0  \n",
              "1           23.000          0.000          1.000            16.0  \n",
              "2           23.000          0.000          2.000            17.0  \n",
              "3           23.000          0.000          1.000            17.0  \n",
              "4           15.800          0.000          1.000            17.0  "
            ],
            "text/html": [
              "\n",
              "  <div id=\"df-1ff981e8-c9ef-415b-b50f-eabd1ea2e8f1\" class=\"colab-df-container\">\n",
              "    <div>\n",
              "<style scoped>\n",
              "    .dataframe tbody tr th:only-of-type {\n",
              "        vertical-align: middle;\n",
              "    }\n",
              "\n",
              "    .dataframe tbody tr th {\n",
              "        vertical-align: top;\n",
              "    }\n",
              "\n",
              "    .dataframe thead th {\n",
              "        text-align: right;\n",
              "    }\n",
              "</style>\n",
              "<table border=\"1\" class=\"dataframe\">\n",
              "  <thead>\n",
              "    <tr style=\"text-align: right;\">\n",
              "      <th></th>\n",
              "      <th>Date</th>\n",
              "      <th>Time</th>\n",
              "      <th>Global_active_power</th>\n",
              "      <th>Global_reactive_power</th>\n",
              "      <th>Voltage</th>\n",
              "      <th>Global_intensity</th>\n",
              "      <th>Sub_metering_1</th>\n",
              "      <th>Sub_metering_2</th>\n",
              "      <th>Sub_metering_3</th>\n",
              "    </tr>\n",
              "  </thead>\n",
              "  <tbody>\n",
              "    <tr>\n",
              "      <th>0</th>\n",
              "      <td>16/12/2006</td>\n",
              "      <td>17:24:00</td>\n",
              "      <td>4.216</td>\n",
              "      <td>0.418</td>\n",
              "      <td>234.840</td>\n",
              "      <td>18.400</td>\n",
              "      <td>0.000</td>\n",
              "      <td>1.000</td>\n",
              "      <td>17.0</td>\n",
              "    </tr>\n",
              "    <tr>\n",
              "      <th>1</th>\n",
              "      <td>16/12/2006</td>\n",
              "      <td>17:25:00</td>\n",
              "      <td>5.360</td>\n",
              "      <td>0.436</td>\n",
              "      <td>233.630</td>\n",
              "      <td>23.000</td>\n",
              "      <td>0.000</td>\n",
              "      <td>1.000</td>\n",
              "      <td>16.0</td>\n",
              "    </tr>\n",
              "    <tr>\n",
              "      <th>2</th>\n",
              "      <td>16/12/2006</td>\n",
              "      <td>17:26:00</td>\n",
              "      <td>5.374</td>\n",
              "      <td>0.498</td>\n",
              "      <td>233.290</td>\n",
              "      <td>23.000</td>\n",
              "      <td>0.000</td>\n",
              "      <td>2.000</td>\n",
              "      <td>17.0</td>\n",
              "    </tr>\n",
              "    <tr>\n",
              "      <th>3</th>\n",
              "      <td>16/12/2006</td>\n",
              "      <td>17:27:00</td>\n",
              "      <td>5.388</td>\n",
              "      <td>0.502</td>\n",
              "      <td>233.740</td>\n",
              "      <td>23.000</td>\n",
              "      <td>0.000</td>\n",
              "      <td>1.000</td>\n",
              "      <td>17.0</td>\n",
              "    </tr>\n",
              "    <tr>\n",
              "      <th>4</th>\n",
              "      <td>16/12/2006</td>\n",
              "      <td>17:28:00</td>\n",
              "      <td>3.666</td>\n",
              "      <td>0.528</td>\n",
              "      <td>235.680</td>\n",
              "      <td>15.800</td>\n",
              "      <td>0.000</td>\n",
              "      <td>1.000</td>\n",
              "      <td>17.0</td>\n",
              "    </tr>\n",
              "  </tbody>\n",
              "</table>\n",
              "</div>\n",
              "    <div class=\"colab-df-buttons\">\n",
              "\n",
              "  <div class=\"colab-df-container\">\n",
              "    <button class=\"colab-df-convert\" onclick=\"convertToInteractive('df-1ff981e8-c9ef-415b-b50f-eabd1ea2e8f1')\"\n",
              "            title=\"Convert this dataframe to an interactive table.\"\n",
              "            style=\"display:none;\">\n",
              "\n",
              "  <svg xmlns=\"http://www.w3.org/2000/svg\" height=\"24px\" viewBox=\"0 -960 960 960\">\n",
              "    <path d=\"M120-120v-720h720v720H120Zm60-500h600v-160H180v160Zm220 220h160v-160H400v160Zm0 220h160v-160H400v160ZM180-400h160v-160H180v160Zm440 0h160v-160H620v160ZM180-180h160v-160H180v160Zm440 0h160v-160H620v160Z\"/>\n",
              "  </svg>\n",
              "    </button>\n",
              "\n",
              "  <style>\n",
              "    .colab-df-container {\n",
              "      display:flex;\n",
              "      gap: 12px;\n",
              "    }\n",
              "\n",
              "    .colab-df-convert {\n",
              "      background-color: #E8F0FE;\n",
              "      border: none;\n",
              "      border-radius: 50%;\n",
              "      cursor: pointer;\n",
              "      display: none;\n",
              "      fill: #1967D2;\n",
              "      height: 32px;\n",
              "      padding: 0 0 0 0;\n",
              "      width: 32px;\n",
              "    }\n",
              "\n",
              "    .colab-df-convert:hover {\n",
              "      background-color: #E2EBFA;\n",
              "      box-shadow: 0px 1px 2px rgba(60, 64, 67, 0.3), 0px 1px 3px 1px rgba(60, 64, 67, 0.15);\n",
              "      fill: #174EA6;\n",
              "    }\n",
              "\n",
              "    .colab-df-buttons div {\n",
              "      margin-bottom: 4px;\n",
              "    }\n",
              "\n",
              "    [theme=dark] .colab-df-convert {\n",
              "      background-color: #3B4455;\n",
              "      fill: #D2E3FC;\n",
              "    }\n",
              "\n",
              "    [theme=dark] .colab-df-convert:hover {\n",
              "      background-color: #434B5C;\n",
              "      box-shadow: 0px 1px 3px 1px rgba(0, 0, 0, 0.15);\n",
              "      filter: drop-shadow(0px 1px 2px rgba(0, 0, 0, 0.3));\n",
              "      fill: #FFFFFF;\n",
              "    }\n",
              "  </style>\n",
              "\n",
              "    <script>\n",
              "      const buttonEl =\n",
              "        document.querySelector('#df-1ff981e8-c9ef-415b-b50f-eabd1ea2e8f1 button.colab-df-convert');\n",
              "      buttonEl.style.display =\n",
              "        google.colab.kernel.accessAllowed ? 'block' : 'none';\n",
              "\n",
              "      async function convertToInteractive(key) {\n",
              "        const element = document.querySelector('#df-1ff981e8-c9ef-415b-b50f-eabd1ea2e8f1');\n",
              "        const dataTable =\n",
              "          await google.colab.kernel.invokeFunction('convertToInteractive',\n",
              "                                                    [key], {});\n",
              "        if (!dataTable) return;\n",
              "\n",
              "        const docLinkHtml = 'Like what you see? Visit the ' +\n",
              "          '<a target=\"_blank\" href=https://colab.research.google.com/notebooks/data_table.ipynb>data table notebook</a>'\n",
              "          + ' to learn more about interactive tables.';\n",
              "        element.innerHTML = '';\n",
              "        dataTable['output_type'] = 'display_data';\n",
              "        await google.colab.output.renderOutput(dataTable, element);\n",
              "        const docLink = document.createElement('div');\n",
              "        docLink.innerHTML = docLinkHtml;\n",
              "        element.appendChild(docLink);\n",
              "      }\n",
              "    </script>\n",
              "  </div>\n",
              "\n",
              "\n",
              "    <div id=\"df-9d03c4ed-c3f2-4ff2-bf13-4673ab58052d\">\n",
              "      <button class=\"colab-df-quickchart\" onclick=\"quickchart('df-9d03c4ed-c3f2-4ff2-bf13-4673ab58052d')\"\n",
              "                title=\"Suggest charts\"\n",
              "                style=\"display:none;\">\n",
              "\n",
              "<svg xmlns=\"http://www.w3.org/2000/svg\" height=\"24px\"viewBox=\"0 0 24 24\"\n",
              "     width=\"24px\">\n",
              "    <g>\n",
              "        <path d=\"M19 3H5c-1.1 0-2 .9-2 2v14c0 1.1.9 2 2 2h14c1.1 0 2-.9 2-2V5c0-1.1-.9-2-2-2zM9 17H7v-7h2v7zm4 0h-2V7h2v10zm4 0h-2v-4h2v4z\"/>\n",
              "    </g>\n",
              "</svg>\n",
              "      </button>\n",
              "\n",
              "<style>\n",
              "  .colab-df-quickchart {\n",
              "      --bg-color: #E8F0FE;\n",
              "      --fill-color: #1967D2;\n",
              "      --hover-bg-color: #E2EBFA;\n",
              "      --hover-fill-color: #174EA6;\n",
              "      --disabled-fill-color: #AAA;\n",
              "      --disabled-bg-color: #DDD;\n",
              "  }\n",
              "\n",
              "  [theme=dark] .colab-df-quickchart {\n",
              "      --bg-color: #3B4455;\n",
              "      --fill-color: #D2E3FC;\n",
              "      --hover-bg-color: #434B5C;\n",
              "      --hover-fill-color: #FFFFFF;\n",
              "      --disabled-bg-color: #3B4455;\n",
              "      --disabled-fill-color: #666;\n",
              "  }\n",
              "\n",
              "  .colab-df-quickchart {\n",
              "    background-color: var(--bg-color);\n",
              "    border: none;\n",
              "    border-radius: 50%;\n",
              "    cursor: pointer;\n",
              "    display: none;\n",
              "    fill: var(--fill-color);\n",
              "    height: 32px;\n",
              "    padding: 0;\n",
              "    width: 32px;\n",
              "  }\n",
              "\n",
              "  .colab-df-quickchart:hover {\n",
              "    background-color: var(--hover-bg-color);\n",
              "    box-shadow: 0 1px 2px rgba(60, 64, 67, 0.3), 0 1px 3px 1px rgba(60, 64, 67, 0.15);\n",
              "    fill: var(--button-hover-fill-color);\n",
              "  }\n",
              "\n",
              "  .colab-df-quickchart-complete:disabled,\n",
              "  .colab-df-quickchart-complete:disabled:hover {\n",
              "    background-color: var(--disabled-bg-color);\n",
              "    fill: var(--disabled-fill-color);\n",
              "    box-shadow: none;\n",
              "  }\n",
              "\n",
              "  .colab-df-spinner {\n",
              "    border: 2px solid var(--fill-color);\n",
              "    border-color: transparent;\n",
              "    border-bottom-color: var(--fill-color);\n",
              "    animation:\n",
              "      spin 1s steps(1) infinite;\n",
              "  }\n",
              "\n",
              "  @keyframes spin {\n",
              "    0% {\n",
              "      border-color: transparent;\n",
              "      border-bottom-color: var(--fill-color);\n",
              "      border-left-color: var(--fill-color);\n",
              "    }\n",
              "    20% {\n",
              "      border-color: transparent;\n",
              "      border-left-color: var(--fill-color);\n",
              "      border-top-color: var(--fill-color);\n",
              "    }\n",
              "    30% {\n",
              "      border-color: transparent;\n",
              "      border-left-color: var(--fill-color);\n",
              "      border-top-color: var(--fill-color);\n",
              "      border-right-color: var(--fill-color);\n",
              "    }\n",
              "    40% {\n",
              "      border-color: transparent;\n",
              "      border-right-color: var(--fill-color);\n",
              "      border-top-color: var(--fill-color);\n",
              "    }\n",
              "    60% {\n",
              "      border-color: transparent;\n",
              "      border-right-color: var(--fill-color);\n",
              "    }\n",
              "    80% {\n",
              "      border-color: transparent;\n",
              "      border-right-color: var(--fill-color);\n",
              "      border-bottom-color: var(--fill-color);\n",
              "    }\n",
              "    90% {\n",
              "      border-color: transparent;\n",
              "      border-bottom-color: var(--fill-color);\n",
              "    }\n",
              "  }\n",
              "</style>\n",
              "\n",
              "      <script>\n",
              "        async function quickchart(key) {\n",
              "          const quickchartButtonEl =\n",
              "            document.querySelector('#' + key + ' button');\n",
              "          quickchartButtonEl.disabled = true;  // To prevent multiple clicks.\n",
              "          quickchartButtonEl.classList.add('colab-df-spinner');\n",
              "          try {\n",
              "            const charts = await google.colab.kernel.invokeFunction(\n",
              "                'suggestCharts', [key], {});\n",
              "          } catch (error) {\n",
              "            console.error('Error during call to suggestCharts:', error);\n",
              "          }\n",
              "          quickchartButtonEl.classList.remove('colab-df-spinner');\n",
              "          quickchartButtonEl.classList.add('colab-df-quickchart-complete');\n",
              "        }\n",
              "        (() => {\n",
              "          let quickchartButtonEl =\n",
              "            document.querySelector('#df-9d03c4ed-c3f2-4ff2-bf13-4673ab58052d button');\n",
              "          quickchartButtonEl.style.display =\n",
              "            google.colab.kernel.accessAllowed ? 'block' : 'none';\n",
              "        })();\n",
              "      </script>\n",
              "    </div>\n",
              "\n",
              "    </div>\n",
              "  </div>\n"
            ],
            "application/vnd.google.colaboratory.intrinsic+json": {
              "type": "dataframe",
              "variable_name": "df"
            }
          },
          "metadata": {},
          "execution_count": 15
        }
      ]
    },
    {
      "cell_type": "code",
      "source": [
        "# connect to sql and create a database in sql\n",
        "cnt=sqlite3.connect(\"household_power_consumption.db\")"
      ],
      "metadata": {
        "id": "T4yERELCzobB"
      },
      "execution_count": 16,
      "outputs": []
    },
    {
      "cell_type": "code",
      "source": [
        "# create a table with the data for the database\n",
        "df.to_sql(\"household_power_consn1umption\", cnt, index=False, dtype={\n",
        "    'Date': 'TEXT',\n",
        "    'Time': 'TEXT',\n",
        "    'Global_active_power': 'REAL',\n",
        "    'Global_reactive_power': 'REAL',\n",
        "    'Voltage': 'REAL',\n",
        "    'Global_intensity': 'REAL',\n",
        "    'Sub_metering_1': 'REAL',\n",
        "    'Sub_metering_2': 'REAL',\n",
        "    'Sub_metering_3': 'REAL'\n",
        "})"
      ],
      "metadata": {
        "colab": {
          "base_uri": "https://localhost:8080/"
        },
        "collapsed": true,
        "id": "oClTJnad8mL_",
        "outputId": "854f35bf-33f9-4286-ae22-363c796f0050"
      },
      "execution_count": 33,
      "outputs": [
        {
          "output_type": "execute_result",
          "data": {
            "text/plain": [
              "2075259"
            ]
          },
          "metadata": {},
          "execution_count": 33
        }
      ]
    },
    {
      "cell_type": "code",
      "source": [
        "#create querries using read_sql\n",
        "query = \"PRAGMA table_info(household_power_consn1umption)\"\n",
        "result = pd.read_sql(query,cnt)\n",
        "print(result)"
      ],
      "metadata": {
        "colab": {
          "base_uri": "https://localhost:8080/"
        },
        "id": "zKZYp5nh48ua",
        "outputId": "b148cb36-fc79-43df-80a3-c4836a2aa0b6"
      },
      "execution_count": 34,
      "outputs": [
        {
          "output_type": "stream",
          "name": "stdout",
          "text": [
            "   cid                   name  type  notnull dflt_value  pk\n",
            "0    0                   Date  TEXT        0       None   0\n",
            "1    1                   Time  TEXT        0       None   0\n",
            "2    2    Global_active_power  REAL        0       None   0\n",
            "3    3  Global_reactive_power  REAL        0       None   0\n",
            "4    4                Voltage  REAL        0       None   0\n",
            "5    5       Global_intensity  REAL        0       None   0\n",
            "6    6         Sub_metering_1  REAL        0       None   0\n",
            "7    7         Sub_metering_2  REAL        0       None   0\n",
            "8    8         Sub_metering_3  REAL        0       None   0\n"
          ]
        }
      ]
    },
    {
      "cell_type": "code",
      "source": [
        "# data dimensions\n",
        "query = \"\"\"\n",
        "SELECT 'rows' AS dimension, COUNT(*) AS count FROM household_power_consn1umption\n",
        "UNION ALL\n",
        "SELECT 'columns' AS dimension, COUNT(*) AS count FROM pragma_table_info('household_power_consn1umption');\n",
        "\"\"\"\n",
        "result = pd.read_sql(query,cnt)\n",
        "print(result)"
      ],
      "metadata": {
        "colab": {
          "base_uri": "https://localhost:8080/"
        },
        "collapsed": true,
        "id": "CGh6N7JJ88Iw",
        "outputId": "a1eacda6-372c-46b0-99b9-6ebf5cfe22db"
      },
      "execution_count": 37,
      "outputs": [
        {
          "output_type": "stream",
          "name": "stdout",
          "text": [
            "  dimension    count\n",
            "0      rows  2075259\n",
            "1   columns        9\n"
          ]
        }
      ]
    },
    {
      "cell_type": "code",
      "source": [
        "# average consumption\n",
        "\n",
        "query = \"SELECT AVG(global_active_power) AS average_power FROM household_power_consn1umption;\"\n",
        "result = pd.read_sql(query,cnt)\n",
        "print(result)"
      ],
      "metadata": {
        "colab": {
          "base_uri": "https://localhost:8080/"
        },
        "id": "USb0y1wFDVvv",
        "outputId": "99c1ffb3-efa8-4ce0-8e58-40fcd0f34174"
      },
      "execution_count": 39,
      "outputs": [
        {
          "output_type": "stream",
          "name": "stdout",
          "text": [
            "   average_power\n",
            "0        1.07795\n"
          ]
        }
      ]
    },
    {
      "cell_type": "code",
      "source": [
        "#check for null values across all the columns\n",
        "query = \"\"\"\n",
        "SELECT\n",
        "    SUM(CASE WHEN Date IS NULL THEN 1 ELSE 0 END) AS null_date,\n",
        "    SUM(CASE WHEN Time IS NULL THEN 1 ELSE 0 END) AS null_time,\n",
        "    SUM(CASE WHEN global_active_power IS NULL THEN 1 ELSE 0 END) AS null_global_active_power,\n",
        "    SUM(CASE WHEN global_reactive_power IS NULL THEN 1 ELSE 0 END) AS null_global_reactive_power,\n",
        "    SUM(CASE WHEN Voltage IS NULL THEN 1 ELSE 0 END) AS null_voltage,\n",
        "    SUM(CASE WHEN global_intensity IS NULL THEN 1 ELSE 0 END) AS null_global_intensity,\n",
        "    SUM(CASE WHEN sub_metering_1 IS NULL THEN 1 ELSE 0 END) AS null_sub_metering_1,\n",
        "    SUM(CASE WHEN sub_metering_2 IS NULL THEN 1 ELSE 0 END) AS null_sub_metering_2,\n",
        "    SUM(CASE WHEN sub_metering_3 IS NULL THEN 1 ELSE 0 END) AS null_sub_metering_3\n",
        "FROM household_power_consumption;\n",
        "\"\"\"\n",
        "result = pd.read_sql(query,cnt)\n",
        "print(result)"
      ],
      "metadata": {
        "colab": {
          "base_uri": "https://localhost:8080/"
        },
        "id": "Q-8G038qDlXW",
        "outputId": "09c74f0c-0606-424a-ae9c-aa400bb562ba"
      },
      "execution_count": 50,
      "outputs": [
        {
          "output_type": "stream",
          "name": "stdout",
          "text": [
            "   null_date  null_time  null_global_active_power  null_global_reactive_power  \\\n",
            "0          0          0                         0                           0   \n",
            "\n",
            "   null_voltage  null_global_intensity  null_sub_metering_1  \\\n",
            "0             0                      0                    0   \n",
            "\n",
            "   null_sub_metering_2  null_sub_metering_3  \n",
            "0                    0                25979  \n"
          ]
        }
      ]
    },
    {
      "cell_type": "code",
      "source": [
        "#running querries using cursor object"
      ],
      "metadata": {
        "id": "2kr-W4OTE7bc"
      },
      "execution_count": 45,
      "outputs": []
    },
    {
      "cell_type": "code",
      "source": [
        "#open text file and read all rows\n",
        "with open('/content/household_power_consumption.txt','r') as file:\n",
        "  reader = csv.reader(file,delimiter=';')\n",
        "\n",
        "  #skip header row\n",
        "  header = next(reader)\n",
        "\n",
        "  #replace missing values with \"None\" and prepare the data\n",
        "  data = [\n",
        "      [None if value == '?' else value for value in row]\n",
        "      for row in reader\n",
        "  ]\n",
        "\n",
        "#use \"executemany\" to insert all rows at once\n",
        "insert_query = \"\"\"\n",
        "INSERT INTO household_power_consumption (\n",
        "    Date, Time, global_active_power, global_reactive_power,\n",
        "    Voltage, global_intensity, sub_metering_1, sub_metering_2, sub_metering_3\n",
        ") VALUES (?, ?, ?, ?, ?, ?, ?, ?, ?);\n",
        "\"\"\"\n",
        "cursor = cnt.cursor()\n",
        "cursor.executemany(insert_query,data)\n",
        "\n",
        "#commit changes\n",
        "cnt.commit()"
      ],
      "metadata": {
        "id": "aqA5FclRE_-z"
      },
      "execution_count": 51,
      "outputs": []
    },
    {
      "cell_type": "code",
      "source": [
        "# running Queries on the SQLite Database with the cursor Object"
      ],
      "metadata": {
        "id": "jzOQ_X1pIb00"
      },
      "execution_count": 49,
      "outputs": []
    },
    {
      "cell_type": "code",
      "source": [
        "#query database to retrieve column names\n",
        "query = \"PRAGMA table_info(household_power_consumption);\"\n",
        "cursor.execute(query)\n",
        "result = cursor.fetchall()\n",
        "\n",
        "for column in result:\n",
        "  print(column)"
      ],
      "metadata": {
        "colab": {
          "base_uri": "https://localhost:8080/"
        },
        "id": "oZ7MPTKuIi0-",
        "outputId": "d8aa0140-28a0-4b90-b8a8-52bbbaef3a66"
      },
      "execution_count": 52,
      "outputs": [
        {
          "output_type": "stream",
          "name": "stdout",
          "text": [
            "(0, 'Date', 'TEXT', 0, None, 0)\n",
            "(1, 'Time', 'TEXT', 0, None, 0)\n",
            "(2, 'Global_active_power', 'REAL', 0, None, 0)\n",
            "(3, 'Global_reactive_power', 'REAL', 0, None, 0)\n",
            "(4, 'Voltage', 'REAL', 0, None, 0)\n",
            "(5, 'Global_intensity', 'REAL', 0, None, 0)\n",
            "(6, 'Sub_metering_1', 'REAL', 0, None, 0)\n",
            "(7, 'Sub_metering_2', 'REAL', 0, None, 0)\n",
            "(8, 'Sub_metering_3', 'REAL', 0, None, 0)\n"
          ]
        }
      ]
    },
    {
      "cell_type": "code",
      "source": [
        "#finds the 5 times of day with the highest total power usage across all days in the dataset\n",
        "query = \"\"\"\n",
        "SELECT Time, SUM(global_active_power) AS total_power\n",
        "FROM household_power_consumption\n",
        "GROUP BY Time\n",
        "ORDER BY total_power DESC\n",
        "LIMIT 5;\n",
        "\"\"\"\n",
        "\n",
        "cursor.execute(query)\n",
        "results = cursor.fetchall()\n",
        "\n",
        "for row in results:\n",
        "  print(row)"
      ],
      "metadata": {
        "colab": {
          "base_uri": "https://localhost:8080/"
        },
        "id": "eW6ZchZsJ6qf",
        "outputId": "a4edc2df-ed0b-490d-c17e-bbfd00ebff20"
      },
      "execution_count": 54,
      "outputs": [
        {
          "output_type": "stream",
          "name": "stdout",
          "text": [
            "('20:50:00', 5714.364000000006)\n",
            "('20:49:00', 5713.552000000005)\n",
            "('20:51:00', 5710.604000000004)\n",
            "('20:52:00', 5688.560000000005)\n",
            "('20:53:00', 5676.796000000004)\n"
          ]
        }
      ]
    },
    {
      "cell_type": "code",
      "source": [
        "\n",
        "#close connection after finishing queries\n",
        "cnt.close()\n",
        "\n"
      ],
      "metadata": {
        "id": "miNYWMDMMTA9"
      },
      "execution_count": 55,
      "outputs": []
    }
  ]
}