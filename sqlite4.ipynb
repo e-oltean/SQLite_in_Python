{
  "nbformat": 4,
  "nbformat_minor": 0,
  "metadata": {
    "colab": {
      "provenance": []
    },
    "kernelspec": {
      "name": "python3",
      "display_name": "Python 3"
    },
    "language_info": {
      "name": "python"
    }
  },
  "cells": [
    {
      "cell_type": "code",
      "execution_count": null,
      "metadata": {
        "id": "3KIFKBptXNjQ"
      },
      "outputs": [],
      "source": [
        "import sqlite3"
      ]
    },
    {
      "cell_type": "code",
      "source": [
        "# connect to database\n",
        "conn=sqlite3.connect(\"customer.db\")"
      ],
      "metadata": {
        "id": "r_1gzOB9cNzh"
      },
      "execution_count": null,
      "outputs": []
    },
    {
      "cell_type": "code",
      "source": [
        "#create a cursor\n",
        "c=conn.cursor()"
      ],
      "metadata": {
        "id": "9UMCxf43dfi4"
      },
      "execution_count": null,
      "outputs": []
    },
    {
      "cell_type": "code",
      "source": [
        "#create table\n",
        "c.execute(\"\"\"CREATE TABLE customers(\n",
        "    first_name text,\n",
        "    last_name text,\n",
        "    email text\n",
        ")\"\"\")"
      ],
      "metadata": {
        "colab": {
          "base_uri": "https://localhost:8080/",
          "height": 211
        },
        "collapsed": true,
        "id": "iNyJs7ztdvSO",
        "outputId": "8f03ee3a-7ea2-4f60-ef06-016cf4296549"
      },
      "execution_count": null,
      "outputs": [
        {
          "output_type": "error",
          "ename": "OperationalError",
          "evalue": "table customers already exists",
          "traceback": [
            "\u001b[0;31m---------------------------------------------------------------------------\u001b[0m",
            "\u001b[0;31mOperationalError\u001b[0m                          Traceback (most recent call last)",
            "\u001b[0;32m/tmp/ipython-input-62-3606941910.py\u001b[0m in \u001b[0;36m<cell line: 0>\u001b[0;34m()\u001b[0m\n\u001b[1;32m      1\u001b[0m \u001b[0;31m#create table\u001b[0m\u001b[0;34m\u001b[0m\u001b[0;34m\u001b[0m\u001b[0m\n\u001b[0;32m----> 2\u001b[0;31m c.execute(\"\"\"CREATE TABLE customers(\n\u001b[0m\u001b[1;32m      3\u001b[0m     \u001b[0mfirst_name\u001b[0m \u001b[0mtext\u001b[0m\u001b[0;34m,\u001b[0m\u001b[0;34m\u001b[0m\u001b[0;34m\u001b[0m\u001b[0m\n\u001b[1;32m      4\u001b[0m     \u001b[0mlast_name\u001b[0m \u001b[0mtext\u001b[0m\u001b[0;34m,\u001b[0m\u001b[0;34m\u001b[0m\u001b[0;34m\u001b[0m\u001b[0m\n\u001b[1;32m      5\u001b[0m     \u001b[0memail\u001b[0m \u001b[0mtext\u001b[0m\u001b[0;34m\u001b[0m\u001b[0;34m\u001b[0m\u001b[0m\n",
            "\u001b[0;31mOperationalError\u001b[0m: table customers already exists"
          ]
        }
      ]
    },
    {
      "cell_type": "code",
      "source": [
        "#commit our command\n",
        "conn.commit()"
      ],
      "metadata": {
        "id": "bzwP24oUezP0"
      },
      "execution_count": null,
      "outputs": []
    },
    {
      "cell_type": "code",
      "source": [
        "#insert one record in the table\n",
        "c.execute(\"INSERT INTO customers VALUES('John','Elder','John@codemy.com')\")"
      ],
      "metadata": {
        "colab": {
          "base_uri": "https://localhost:8080/",
          "height": 159
        },
        "collapsed": true,
        "id": "Lp18BlLXfQZz",
        "outputId": "c9976259-3717-49a5-d5aa-85e4e1cdb104"
      },
      "execution_count": null,
      "outputs": [
        {
          "output_type": "error",
          "ename": "OperationalError",
          "evalue": "near \"@codemy\": syntax error",
          "traceback": [
            "\u001b[0;31m---------------------------------------------------------------------------\u001b[0m",
            "\u001b[0;31mOperationalError\u001b[0m                          Traceback (most recent call last)",
            "\u001b[0;32m/tmp/ipython-input-64-3565085159.py\u001b[0m in \u001b[0;36m<cell line: 0>\u001b[0;34m()\u001b[0m\n\u001b[1;32m      1\u001b[0m \u001b[0;31m#insert one record in the table\u001b[0m\u001b[0;34m\u001b[0m\u001b[0;34m\u001b[0m\u001b[0m\n\u001b[0;32m----> 2\u001b[0;31m \u001b[0mc\u001b[0m\u001b[0;34m.\u001b[0m\u001b[0mexecute\u001b[0m\u001b[0;34m(\u001b[0m\u001b[0;34m\"INSERT INTO customers VALUES('John','Elder',John@codemy.com')\"\u001b[0m\u001b[0;34m)\u001b[0m\u001b[0;34m\u001b[0m\u001b[0;34m\u001b[0m\u001b[0m\n\u001b[0m",
            "\u001b[0;31mOperationalError\u001b[0m: near \"@codemy\": syntax error"
          ]
        }
      ]
    },
    {
      "cell_type": "code",
      "source": [
        "#create many customers\n",
        "many_customers=[\n",
        "    ('Wes','Brown','wes@brown.com'),\n",
        "    ('Steph','Kueva', 'steph@kueva'),\n",
        "    ('Dan','Pas', 'dan@pas.com')\n",
        "    ]\n",
        "    #commit our command\n",
        "conn.commit()"
      ],
      "metadata": {
        "id": "MndGeS8gg_e6"
      },
      "execution_count": null,
      "outputs": []
    },
    {
      "cell_type": "code",
      "source": [
        "#add multiples entries\n",
        "c.executemany(\"INSERT INTO customers VALUES(?,?,?)\",many_customers)\n",
        "#commit our command\n",
        "conn.commit()"
      ],
      "metadata": {
        "colab": {
          "base_uri": "https://localhost:8080/",
          "height": 193
        },
        "collapsed": true,
        "id": "p1kDL55AiH0N",
        "outputId": "e633499f-995b-4f34-804e-02092cf76aeb"
      },
      "execution_count": null,
      "outputs": [
        {
          "output_type": "error",
          "ename": "OperationalError",
          "evalue": "database is locked",
          "traceback": [
            "\u001b[0;31m---------------------------------------------------------------------------\u001b[0m",
            "\u001b[0;31mOperationalError\u001b[0m                          Traceback (most recent call last)",
            "\u001b[0;32m/tmp/ipython-input-66-3614835937.py\u001b[0m in \u001b[0;36m<cell line: 0>\u001b[0;34m()\u001b[0m\n\u001b[1;32m      1\u001b[0m \u001b[0;31m#add multiples entries\u001b[0m\u001b[0;34m\u001b[0m\u001b[0;34m\u001b[0m\u001b[0m\n\u001b[0;32m----> 2\u001b[0;31m \u001b[0mc\u001b[0m\u001b[0;34m.\u001b[0m\u001b[0mexecutemany\u001b[0m\u001b[0;34m(\u001b[0m\u001b[0;34m\"INSERT INTO customers VALUES(?,?,?)\"\u001b[0m\u001b[0;34m,\u001b[0m\u001b[0mmany_customers\u001b[0m\u001b[0;34m)\u001b[0m\u001b[0;34m\u001b[0m\u001b[0;34m\u001b[0m\u001b[0m\n\u001b[0m\u001b[1;32m      3\u001b[0m \u001b[0;31m#commit our command\u001b[0m\u001b[0;34m\u001b[0m\u001b[0;34m\u001b[0m\u001b[0m\n\u001b[1;32m      4\u001b[0m \u001b[0mconn\u001b[0m\u001b[0;34m.\u001b[0m\u001b[0mcommit\u001b[0m\u001b[0;34m(\u001b[0m\u001b[0;34m)\u001b[0m\u001b[0;34m\u001b[0m\u001b[0;34m\u001b[0m\u001b[0m\n",
            "\u001b[0;31mOperationalError\u001b[0m: database is locked"
          ]
        }
      ]
    },
    {
      "cell_type": "code",
      "source": [
        "#query the database\n",
        "c.execute(\"SELECT * FROM customers\")"
      ],
      "metadata": {
        "colab": {
          "base_uri": "https://localhost:8080/"
        },
        "id": "LKxGwrW2iqLZ",
        "outputId": "e4e8f79c-23cc-4493-afcb-fc882496a780"
      },
      "execution_count": null,
      "outputs": [
        {
          "output_type": "execute_result",
          "data": {
            "text/plain": [
              "<sqlite3.Cursor at 0x7b341ef4d2c0>"
            ]
          },
          "metadata": {},
          "execution_count": 67
        }
      ]
    },
    {
      "cell_type": "code",
      "source": [
        "# print one item\n",
        "c.fetchone()"
      ],
      "metadata": {
        "colab": {
          "base_uri": "https://localhost:8080/"
        },
        "id": "Xhcc_ZkAi8K9",
        "outputId": "e263ed86-498f-402a-b39e-8d89b83f97f8"
      },
      "execution_count": null,
      "outputs": [
        {
          "output_type": "execute_result",
          "data": {
            "text/plain": [
              "('Wes', 'Brown', 'wes@brown.com')"
            ]
          },
          "metadata": {},
          "execution_count": 68
        }
      ]
    },
    {
      "cell_type": "code",
      "source": [
        "# print more than one items\n",
        "c.fetchmany(3)"
      ],
      "metadata": {
        "colab": {
          "base_uri": "https://localhost:8080/"
        },
        "id": "L4vsl3YSjO4-",
        "outputId": "743f70e3-a5c7-498f-af0a-a08582774e6c"
      },
      "execution_count": null,
      "outputs": [
        {
          "output_type": "execute_result",
          "data": {
            "text/plain": [
              "[('Steph', 'Kueva', 'steph@kueva'),\n",
              " ('Dan', 'Pas', 'dan@pas.com'),\n",
              " ('Wes', 'Brown', 'wes@brown.com')]"
            ]
          },
          "metadata": {},
          "execution_count": 69
        }
      ]
    },
    {
      "cell_type": "code",
      "source": [
        "# print all items\n",
        "c.fetchall()"
      ],
      "metadata": {
        "colab": {
          "base_uri": "https://localhost:8080/"
        },
        "id": "6rCOmqZ7jEGw",
        "outputId": "63879652-f3cd-43b3-ae13-2878f05d61d0"
      },
      "execution_count": null,
      "outputs": [
        {
          "output_type": "execute_result",
          "data": {
            "text/plain": [
              "[('Steph', 'Kueva', 'steph@kueva'),\n",
              " ('Dan', 'Pas', 'dan@pas.com'),\n",
              " ('Wes', 'Brown', 'wes@brown.com'),\n",
              " ('Steph', 'Kueva', 'steph@kueva'),\n",
              " ('Dan', 'Pas', 'dan@pas.com')]"
            ]
          },
          "metadata": {},
          "execution_count": 70
        }
      ]
    },
    {
      "cell_type": "code",
      "source": [
        "# print items with loop\n",
        "items=c.fetchall()\n",
        "for item in items:\n",
        "  print(item[0]+item[1]+\"|\"+item[2])"
      ],
      "metadata": {
        "id": "3aVRZ9q8kYEV"
      },
      "execution_count": null,
      "outputs": []
    },
    {
      "cell_type": "code",
      "source": [
        "# print items\n",
        "print(items)"
      ],
      "metadata": {
        "colab": {
          "base_uri": "https://localhost:8080/"
        },
        "id": "rMWBuvUWm3pD",
        "outputId": "91d8db1d-278f-4249-801e-9e0207a9843c"
      },
      "execution_count": null,
      "outputs": [
        {
          "output_type": "stream",
          "name": "stdout",
          "text": [
            "[]\n"
          ]
        }
      ]
    },
    {
      "cell_type": "code",
      "source": [
        "#update records\n",
        "c.execute(\"\"\"UPDATE customers SET first_name='Jack'\n",
        "    WHERE last_name='Elder'\n",
        "\"\"\")"
      ],
      "metadata": {
        "colab": {
          "base_uri": "https://localhost:8080/",
          "height": 193
        },
        "collapsed": true,
        "id": "trCLyWuXpBqf",
        "outputId": "d73b3110-c2c4-4e72-e6ce-374c480fad55"
      },
      "execution_count": null,
      "outputs": [
        {
          "output_type": "error",
          "ename": "OperationalError",
          "evalue": "database is locked",
          "traceback": [
            "\u001b[0;31m---------------------------------------------------------------------------\u001b[0m",
            "\u001b[0;31mOperationalError\u001b[0m                          Traceback (most recent call last)",
            "\u001b[0;32m/tmp/ipython-input-73-3936325247.py\u001b[0m in \u001b[0;36m<cell line: 0>\u001b[0;34m()\u001b[0m\n\u001b[1;32m      1\u001b[0m \u001b[0;31m#update records\u001b[0m\u001b[0;34m\u001b[0m\u001b[0;34m\u001b[0m\u001b[0m\n\u001b[0;32m----> 2\u001b[0;31m c.execute(\"\"\"UPDATE customers SET first_name='Jack'\n\u001b[0m\u001b[1;32m      3\u001b[0m     \u001b[0mWHERE\u001b[0m \u001b[0mlast_name\u001b[0m\u001b[0;34m=\u001b[0m\u001b[0;34m'Elder'\u001b[0m\u001b[0;34m\u001b[0m\u001b[0;34m\u001b[0m\u001b[0m\n\u001b[1;32m      4\u001b[0m \"\"\")\n",
            "\u001b[0;31mOperationalError\u001b[0m: database is locked"
          ]
        }
      ]
    },
    {
      "cell_type": "code",
      "source": [],
      "metadata": {
        "id": "xf7iVsz6twGX"
      },
      "execution_count": null,
      "outputs": []
    },
    {
      "cell_type": "code",
      "source": [
        "#update records\n",
        "c.execute(\"\"\"UPDATE customers SET first_name='John'\n",
        "    WHERE rowid=1\n",
        "\"\"\")"
      ],
      "metadata": {
        "colab": {
          "base_uri": "https://localhost:8080/",
          "height": 193
        },
        "collapsed": true,
        "id": "M9FLuQd4r293",
        "outputId": "7cf1e4f2-f338-4dc9-cad8-588eebce9f70"
      },
      "execution_count": null,
      "outputs": [
        {
          "output_type": "error",
          "ename": "OperationalError",
          "evalue": "database is locked",
          "traceback": [
            "\u001b[0;31m---------------------------------------------------------------------------\u001b[0m",
            "\u001b[0;31mOperationalError\u001b[0m                          Traceback (most recent call last)",
            "\u001b[0;32m/tmp/ipython-input-74-3128712850.py\u001b[0m in \u001b[0;36m<cell line: 0>\u001b[0;34m()\u001b[0m\n\u001b[1;32m      1\u001b[0m \u001b[0;31m#update records\u001b[0m\u001b[0;34m\u001b[0m\u001b[0;34m\u001b[0m\u001b[0m\n\u001b[0;32m----> 2\u001b[0;31m c.execute(\"\"\"UPDATE customers SET first_name='John'\n\u001b[0m\u001b[1;32m      3\u001b[0m     \u001b[0mWHERE\u001b[0m \u001b[0mrowid\u001b[0m\u001b[0;34m=\u001b[0m\u001b[0;36m1\u001b[0m\u001b[0;34m\u001b[0m\u001b[0;34m\u001b[0m\u001b[0m\n\u001b[1;32m      4\u001b[0m \"\"\")\n",
            "\u001b[0;31mOperationalError\u001b[0m: database is locked"
          ]
        }
      ]
    },
    {
      "cell_type": "code",
      "source": [
        "#delete records\n",
        "c.execute(\"DELETE FROM customers WHERE rowid=5\")"
      ],
      "metadata": {
        "colab": {
          "base_uri": "https://localhost:8080/",
          "height": 159
        },
        "collapsed": true,
        "id": "hvphAHxps_p2",
        "outputId": "a0abde93-c7bc-4c40-81bd-0b1d444d2433"
      },
      "execution_count": null,
      "outputs": [
        {
          "output_type": "error",
          "ename": "OperationalError",
          "evalue": "database is locked",
          "traceback": [
            "\u001b[0;31m---------------------------------------------------------------------------\u001b[0m",
            "\u001b[0;31mOperationalError\u001b[0m                          Traceback (most recent call last)",
            "\u001b[0;32m/tmp/ipython-input-75-1731146754.py\u001b[0m in \u001b[0;36m<cell line: 0>\u001b[0;34m()\u001b[0m\n\u001b[1;32m      1\u001b[0m \u001b[0;31m#delete records\u001b[0m\u001b[0;34m\u001b[0m\u001b[0;34m\u001b[0m\u001b[0m\n\u001b[0;32m----> 2\u001b[0;31m \u001b[0mc\u001b[0m\u001b[0;34m.\u001b[0m\u001b[0mexecute\u001b[0m\u001b[0;34m(\u001b[0m\u001b[0;34m\"DELETE FROM customers WHERE rowid=5\"\u001b[0m\u001b[0;34m)\u001b[0m\u001b[0;34m\u001b[0m\u001b[0;34m\u001b[0m\u001b[0m\n\u001b[0m",
            "\u001b[0;31mOperationalError\u001b[0m: database is locked"
          ]
        }
      ]
    },
    {
      "cell_type": "code",
      "source": [
        "#query the database 0 order by\n",
        "c.execute(\"SELECT rowid, * FROM customers ORDER BY rowid DESC\")\n",
        "items=c.fetchall()\n",
        "for item in items:\n",
        "  print(item)\n"
      ],
      "metadata": {
        "colab": {
          "base_uri": "https://localhost:8080/"
        },
        "id": "TPqEMJwKt0J1",
        "outputId": "9a375822-b5e0-468d-b315-82eefdc0391c"
      },
      "execution_count": null,
      "outputs": [
        {
          "output_type": "stream",
          "name": "stdout",
          "text": [
            "(9, 'Dan', 'Pas', 'dan@pas.com')\n",
            "(8, 'Steph', 'Kueva', 'steph@kueva')\n",
            "(7, 'Wes', 'Brown', 'wes@brown.com')\n",
            "(6, 'Dan', 'Pas', 'dan@pas.com')\n",
            "(5, 'Steph', 'Kueva', 'steph@kueva')\n",
            "(4, 'Wes', 'Brown', 'wes@brown.com')\n",
            "(3, 'Dan', 'Pas', 'dan@pas.com')\n",
            "(2, 'Steph', 'Kueva', 'steph@kueva')\n",
            "(1, 'Wes', 'Brown', 'wes@brown.com')\n"
          ]
        }
      ]
    },
    {
      "cell_type": "code",
      "source": [
        "#query the database - LIKE, AND, OR\n",
        "c.execute(\"SELECT rowid, * FROM customers WHERE last_name LIKE 'BR%' OR rowid=3\")\n",
        "items=c.fetchall()\n",
        "for item in items:\n",
        "  print(item)"
      ],
      "metadata": {
        "colab": {
          "base_uri": "https://localhost:8080/"
        },
        "id": "imcB7vv8u4Bo",
        "outputId": "c47b98da-88e9-465a-e939-6214f562047b"
      },
      "execution_count": null,
      "outputs": [
        {
          "output_type": "stream",
          "name": "stdout",
          "text": [
            "(1, 'Wes', 'Brown', 'wes@brown.com')\n",
            "(3, 'Dan', 'Pas', 'dan@pas.com')\n",
            "(4, 'Wes', 'Brown', 'wes@brown.com')\n",
            "(7, 'Wes', 'Brown', 'wes@brown.com')\n"
          ]
        }
      ]
    },
    {
      "cell_type": "code",
      "source": [
        "#query the database - LIMIT\n",
        "c.execute(\"SELECT rowid, * FROM customers ORDER BY rowid DESC LIMIT 2\")\n",
        "items=c.fetchall()\n",
        "for item in items:\n",
        "  print(item)"
      ],
      "metadata": {
        "colab": {
          "base_uri": "https://localhost:8080/"
        },
        "id": "TGsDb-ySv4rz",
        "outputId": "14247252-8b12-4eeb-d7bb-44d1937aa85e"
      },
      "execution_count": null,
      "outputs": [
        {
          "output_type": "stream",
          "name": "stdout",
          "text": [
            "(9, 'Dan', 'Pas', 'dan@pas.com')\n",
            "(8, 'Steph', 'Kueva', 'steph@kueva')\n"
          ]
        }
      ]
    },
    {
      "cell_type": "code",
      "source": [
        "# how to delete a table\n",
        "c.execute(\"DROP TABLE customers\")\n",
        "conn.commit"
      ],
      "metadata": {
        "id": "1qyGm3UTxGEG"
      },
      "execution_count": null,
      "outputs": []
    },
    {
      "cell_type": "code",
      "source": [
        "#create functions in Python-query the database and return all\n",
        "def show_all():\n",
        "  c.execute(\"SELECT rowid, * FROM customers\")\n",
        "  items=c.fetchall()\n",
        "  for item in items:\n",
        "    print(item)"
      ],
      "metadata": {
        "id": "lR9nj6X-zV0X"
      },
      "execution_count": null,
      "outputs": []
    }
  ]
}