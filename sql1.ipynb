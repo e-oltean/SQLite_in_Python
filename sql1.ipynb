{
  "nbformat": 4,
  "nbformat_minor": 0,
  "metadata": {
    "colab": {
      "provenance": []
    },
    "kernelspec": {
      "name": "python3",
      "display_name": "Python 3"
    },
    "language_info": {
      "name": "python"
    }
  },
  "cells": [
    {
      "cell_type": "code",
      "execution_count": null,
      "metadata": {
        "id": "X6pIkxMs-kWq"
      },
      "outputs": [],
      "source": []
    },
    {
      "cell_type": "code",
      "source": [
        "import sqlite3"
      ],
      "metadata": {
        "id": "bK6D2yZb_E7y"
      },
      "execution_count": null,
      "outputs": []
    },
    {
      "cell_type": "code",
      "source": [
        "conn=sqlite3.connect('test.db')"
      ],
      "metadata": {
        "id": "Pt7JCVRp_s14"
      },
      "execution_count": null,
      "outputs": []
    },
    {
      "cell_type": "code",
      "source": [
        "conn.execute('''\n",
        "  CREATE TABLE Departments(\n",
        "    Code INTERGER PRIMARY KEY NOT NULL,\n",
        "    name NVARCHAR NOT NULL,\n",
        "    Budget REAL NOT NULL\n",
        "  ); '''\n",
        ")\n",
        "conn.commit ()\n",
        "print('Departments Table Created');"
      ],
      "metadata": {
        "id": "QBFlZOUsAN-I",
        "colab": {
          "base_uri": "https://localhost:8080/"
        },
        "outputId": "4402d194-1e99-43a3-8d69-06de9dc9c3d7"
      },
      "execution_count": null,
      "outputs": [
        {
          "output_type": "stream",
          "name": "stdout",
          "text": [
            "Departments Table Created\n"
          ]
        }
      ]
    },
    {
      "cell_type": "code",
      "source": [
        "conn.execute('''\n",
        "  CREATE TABLE Employees(\n",
        "    SSN INTEGER PRIMARY KEY NOT NULL,\n",
        "    name Text NOT NULL,\n",
        "    LastName VARCHAR NOT NULL,\n",
        "    Department INTEGER NOT NULL,\n",
        "    Salary INTEGER NOT NULL,\n",
        "    CONSTRAINT fk_Departments FOREIGN KEY (Department) REFERENCES Departments(Code)\n",
        "  ); '''\n",
        ")\n",
        "conn.commit ()\n",
        "print('Employees Table Created');"
      ],
      "metadata": {
        "colab": {
          "base_uri": "https://localhost:8080/"
        },
        "id": "9AmD9hgvpinF",
        "outputId": "44fa0c08-c030-4dab-b0ed-8b6202a130e2"
      },
      "execution_count": null,
      "outputs": [
        {
          "output_type": "stream",
          "name": "stdout",
          "text": [
            "Employees Table Created\n"
          ]
        }
      ]
    },
    {
      "cell_type": "code",
      "source": [
        "conn.execute('INSERT INTO Departments(Code,Name,Budget) VALUES(14,\"IT\",65000);')\n",
        "conn.execute('INSERT INTO Departments(Code,Name,Budget) VALUES(37,\"Accounting\",15000);')\n",
        "conn.execute('INSERT INTO Departments(Code,Name,Budget) VALUES(59,\"Human Resources\",240000);')\n",
        "conn.execute('INSERT INTO Departments(Code,Name,Budget) VALUES(77,\"Research\",55000);')"
      ],
      "metadata": {
        "colab": {
          "base_uri": "https://localhost:8080/"
        },
        "id": "fD0Lq5b5sr8z",
        "outputId": "4e286226-8af7-4ba9-8f2c-bfe192af5469"
      },
      "execution_count": null,
      "outputs": [
        {
          "output_type": "execute_result",
          "data": {
            "text/plain": [
              "<sqlite3.Cursor at 0x7bd4fa0ecf40>"
            ]
          },
          "metadata": {},
          "execution_count": 5
        }
      ]
    },
    {
      "cell_type": "code",
      "source": [
        "conn.execute('INSERT INTO Employees(SSN,Name,LastName,Department,Salary) VALUES(152934485,\"Anand\",\"Manikutty\",14,300);')\n",
        "conn.execute('INSERT INTO Employees(SSN,Name,LastName,Department,Salary) VALUES(222364883,\"Carol\",\"Smith\",37,200);')\n",
        "conn.execute('INSERT INTO Employees(SSN,Name,LastName,Department,Salary) VALUES(326587417,\"Joe\",\"Stevens\",37,150);')\n",
        "conn.execute('INSERT INTO Employees(SSN,Name,LastName,Department,Salary) VALUES(332154719,\"Mary-Anne\",\"Foster\",14,500);')\n",
        "conn.execute('INSERT INTO Employees(SSN,Name,LastName,Department,Salary) VALUES(332569843,\"George\",\"O''Donnell\",77,140);')\n",
        "conn.execute('INSERT INTO Employees(SSN,Name,LastName,Department,Salary) VALUES(546523478,\"John\",\"Doe\",59,800);')\n",
        "conn.execute('INSERT INTO Employees(SSN,Name,LastName,Department,Salary) VALUES(631231482,\"David\",\"Smith\",77,900);')\n",
        "conn.execute('INSERT INTO Employees(SSN,Name,LastName,Department,Salary) VALUES(654873219,\"Zacary\",\"Efron\",59,600);')\n",
        "conn.execute('INSERT INTO Employees(SSN,Name,LastName,Department,Salary) VALUES(745685214,\"Eric\",\"Goldsmith\",59,130);')\n",
        "conn.execute('INSERT INTO Employees(SSN,Name,LastName,Department,Salary) VALUES(845657245,\"Elizabeth\",\"Doe\",14,120);')\n",
        "conn.execute('INSERT INTO Employees(SSN,Name,LastName,Department,Salary) VALUES(845657246,\"Kumar\",\"Swamy\",14,500);')\n",
        "conn.commit()"
      ],
      "metadata": {
        "id": "3S4Y5CrntfFG"
      },
      "execution_count": null,
      "outputs": []
    },
    {
      "cell_type": "code",
      "source": [
        "conn=sqlite3.connect('test.db')\n",
        "cursor=conn.execute('''select * from Departments''')\n",
        "for row in cursor:\n",
        "  print(row)"
      ],
      "metadata": {
        "colab": {
          "base_uri": "https://localhost:8080/"
        },
        "id": "Pf8HmqV0wwH9",
        "outputId": "e883a8f5-0b95-473c-c193-b9ef5aff5c07"
      },
      "execution_count": null,
      "outputs": [
        {
          "output_type": "stream",
          "name": "stdout",
          "text": [
            "(14, 'IT', 65000.0)\n",
            "(37, 'Accounting', 15000.0)\n",
            "(59, 'Human Resources', 240000.0)\n",
            "(77, 'Research', 55000.0)\n"
          ]
        }
      ]
    },
    {
      "cell_type": "code",
      "source": [
        "cursor=conn.execute('''select * from Employees''')\n",
        "for row in cursor:\n",
        "  print(row)"
      ],
      "metadata": {
        "colab": {
          "base_uri": "https://localhost:8080/"
        },
        "id": "CP5_-Ob4ySuJ",
        "outputId": "daed75f9-b81b-49e0-9cb4-1035989b7c32"
      },
      "execution_count": null,
      "outputs": [
        {
          "output_type": "stream",
          "name": "stdout",
          "text": [
            "(123234877, 'Michael', 'Rogers', 14, 100)\n",
            "(152934485, 'Anand', 'Manikutty', 14, 300)\n",
            "(222364883, 'Carol', 'Smith', 37, 200)\n",
            "(326587417, 'Joe', 'Stevens', 37, 150)\n",
            "(332154719, 'Mary-Anne', 'Foster', 14, 500)\n",
            "(332569843, 'George', 'ODonnell', 77, 140)\n",
            "(546523478, 'John', 'Doe', 59, 800)\n",
            "(631231482, 'David', 'Smith', 77, 900)\n",
            "(654873219, 'Zacary', 'Efron', 59, 600)\n",
            "(745685214, 'Eric', 'Goldsmith', 59, 130)\n",
            "(845657245, 'Elizabeth', 'Doe', 14, 120)\n",
            "(845657246, 'Kumar', 'Swamy', 14, 500)\n"
          ]
        }
      ]
    },
    {
      "cell_type": "code",
      "source": [
        "cursor=conn.execute('''\n",
        "  SELECT * FROM Employees\n",
        "  WHERE Department IN(37,77); ''')\n",
        "for row in cursor:\n",
        "  print(row)\n"
      ],
      "metadata": {
        "colab": {
          "base_uri": "https://localhost:8080/"
        },
        "id": "6QnSbiCT1Ibl",
        "outputId": "4e213006-c279-411e-8546-901b7466172a"
      },
      "execution_count": null,
      "outputs": [
        {
          "output_type": "stream",
          "name": "stdout",
          "text": [
            "(222364883, 'Carol', 'Smith', 37, 200)\n",
            "(326587417, 'Joe', 'Stevens', 37, 150)\n",
            "(332569843, 'George', 'ODonnell', 77, 140)\n",
            "(631231482, 'David', 'Smith', 77, 900)\n"
          ]
        }
      ]
    },
    {
      "cell_type": "code",
      "source": [],
      "metadata": {
        "id": "8CaF5ykjNwA-"
      },
      "execution_count": null,
      "outputs": []
    },
    {
      "cell_type": "code",
      "source": [
        "cursor=conn.execute('''\n",
        "  SELECT Name FROM Departments\n",
        "  WHERE Code IN\n",
        "  (SELECT Department\n",
        "  From Employees\n",
        "  GROUP BY Department\n",
        "  HAVING COUNT(*)>2\n",
        "  );\n",
        "  ''')\n",
        "for row in cursor:\n",
        "  print(row)"
      ],
      "metadata": {
        "colab": {
          "base_uri": "https://localhost:8080/"
        },
        "id": "YxOBz0MZ1It8",
        "outputId": "e2888f82-6e33-4704-a548-7cfc92c4d99b"
      },
      "execution_count": null,
      "outputs": [
        {
          "output_type": "stream",
          "name": "stdout",
          "text": [
            "('IT',)\n",
            "('Human Resources',)\n"
          ]
        }
      ]
    },
    {
      "cell_type": "code",
      "source": [
        "conn.execute('''\n",
        "  ALTER TABLE Employees ADD qualifications VARCHAR;\n",
        " ''')\n",
        "conn.commit ()\n",
        "print('column added')"
      ],
      "metadata": {
        "colab": {
          "base_uri": "https://localhost:8080/"
        },
        "id": "KX4mqntpNxou",
        "outputId": "81b9138d-2581-4be0-c7d4-1d9c7b6f910e"
      },
      "execution_count": null,
      "outputs": [
        {
          "output_type": "stream",
          "name": "stdout",
          "text": [
            "column added\n"
          ]
        }
      ]
    },
    {
      "cell_type": "code",
      "source": [
        "conn.execute('INSERT INTO Employees(SSN,Name,LastName,Department,Salary, Qualifications) VALUES(222364884,\"Carol\",\"Smith\",37,200, \"mechanic\");')\n",
        "conn.commit ()\n",
        "print('column added')"
      ],
      "metadata": {
        "colab": {
          "base_uri": "https://localhost:8080/"
        },
        "id": "t8pSJUqKQXSi",
        "outputId": "f4b7b2dc-e6dd-441b-99fb-92e64eac57bf"
      },
      "execution_count": null,
      "outputs": [
        {
          "output_type": "stream",
          "name": "stdout",
          "text": [
            "column added\n"
          ]
        }
      ]
    },
    {
      "cell_type": "code",
      "source": [
        "cursor = conn.execute('''\n",
        "SELECT SSN, Name FROM Employees\n",
        "ORDER BY Department;\n",
        "  ''')\n",
        "for row in cursor:\n",
        "  print(row)"
      ],
      "metadata": {
        "colab": {
          "base_uri": "https://localhost:8080/"
        },
        "id": "kgWGRyLT6EK2",
        "outputId": "4b639c46-9c86-4dc1-ec94-654e9a3e4e93"
      },
      "execution_count": null,
      "outputs": [
        {
          "output_type": "stream",
          "name": "stdout",
          "text": [
            "(152934485, 'Anand')\n",
            "(332154719, 'Mary-Anne')\n",
            "(845657245, 'Elizabeth')\n",
            "(845657246, 'Kumar')\n",
            "(222364883, 'Carol')\n",
            "(326587417, 'Joe')\n",
            "(546523478, 'John')\n",
            "(654873219, 'Zacary')\n",
            "(745685214, 'Eric')\n",
            "(332569843, 'George')\n",
            "(631231482, 'David')\n"
          ]
        }
      ]
    },
    {
      "cell_type": "code",
      "source": [
        "cursor=conn.execute('''\n",
        "SELECT SSN, Name FROM  Employees\n",
        "ORDER BY Department,Salary;\n",
        "  ''')\n",
        "for row in cursor:\n",
        "  print(row)"
      ],
      "metadata": {
        "colab": {
          "base_uri": "https://localhost:8080/"
        },
        "id": "COz1ghRG8SnL",
        "outputId": "4c7f7e8a-cc6f-45d6-e94f-b07e7578e541"
      },
      "execution_count": null,
      "outputs": [
        {
          "output_type": "stream",
          "name": "stdout",
          "text": [
            "(845657245, 'Elizabeth')\n",
            "(152934485, 'Anand')\n",
            "(332154719, 'Mary-Anne')\n",
            "(845657246, 'Kumar')\n",
            "(326587417, 'Joe')\n",
            "(222364883, 'Carol')\n",
            "(745685214, 'Eric')\n",
            "(654873219, 'Zacary')\n",
            "(546523478, 'John')\n",
            "(332569843, 'George')\n",
            "(631231482, 'David')\n"
          ]
        }
      ]
    },
    {
      "cell_type": "code",
      "source": [
        "cursor=conn.execute('''\n",
        "SELECT SSN, Name FROM  Employees\n",
        "ORDER BY Department, Salary DESC;\n",
        "  ''')\n",
        "for row in cursor:\n",
        "  print(row)"
      ],
      "metadata": {
        "colab": {
          "base_uri": "https://localhost:8080/"
        },
        "id": "fk9UrtqM73ru",
        "outputId": "858b415a-704f-4399-be48-02cefd958ab6"
      },
      "execution_count": null,
      "outputs": [
        {
          "output_type": "stream",
          "name": "stdout",
          "text": [
            "(332154719, 'Mary-Anne')\n",
            "(845657246, 'Kumar')\n",
            "(152934485, 'Anand')\n",
            "(845657245, 'Elizabeth')\n",
            "(222364883, 'Carol')\n",
            "(326587417, 'Joe')\n",
            "(546523478, 'John')\n",
            "(654873219, 'Zacary')\n",
            "(745685214, 'Eric')\n",
            "(631231482, 'David')\n",
            "(332569843, 'George')\n"
          ]
        }
      ]
    },
    {
      "cell_type": "code",
      "source": [
        "cursor=conn.execute('''\n",
        "SELECT SSN, Name FROM  Employees\n",
        "ORDER BY Department, Salary DESC;\n",
        "LIMIT=5\n",
        "  ''')\n",
        "for row in cursor:\n",
        "  print(row)"
      ],
      "metadata": {
        "colab": {
          "base_uri": "https://localhost:8080/",
          "height": 211
        },
        "collapsed": true,
        "id": "GGsgp59A969C",
        "outputId": "96a4c4bf-d38d-45eb-97a2-d9dbf1abcbc0"
      },
      "execution_count": null,
      "outputs": [
        {
          "output_type": "error",
          "ename": "ProgrammingError",
          "evalue": "You can only execute one statement at a time.",
          "traceback": [
            "\u001b[0;31m---------------------------------------------------------------------------\u001b[0m",
            "\u001b[0;31mProgrammingError\u001b[0m                          Traceback (most recent call last)",
            "\u001b[0;32m/tmp/ipython-input-28-1529989023.py\u001b[0m in \u001b[0;36m<cell line: 0>\u001b[0;34m()\u001b[0m\n\u001b[0;32m----> 1\u001b[0;31m cursor=conn.execute('''\n\u001b[0m\u001b[1;32m      2\u001b[0m \u001b[0mSELECT\u001b[0m \u001b[0mSSN\u001b[0m\u001b[0;34m,\u001b[0m \u001b[0mName\u001b[0m \u001b[0mFROM\u001b[0m  \u001b[0mEmployees\u001b[0m\u001b[0;34m\u001b[0m\u001b[0;34m\u001b[0m\u001b[0m\n\u001b[1;32m      3\u001b[0m \u001b[0mORDER\u001b[0m \u001b[0mBY\u001b[0m \u001b[0mDepartment\u001b[0m\u001b[0;34m,\u001b[0m \u001b[0mSalary\u001b[0m \u001b[0mDESC\u001b[0m\u001b[0;34m;\u001b[0m\u001b[0;34m\u001b[0m\u001b[0;34m\u001b[0m\u001b[0m\n\u001b[1;32m      4\u001b[0m \u001b[0mLIMIT\u001b[0m\u001b[0;34m=\u001b[0m\u001b[0;36m5\u001b[0m\u001b[0;34m\u001b[0m\u001b[0;34m\u001b[0m\u001b[0m\n\u001b[1;32m      5\u001b[0m   ''')\n",
            "\u001b[0;31mProgrammingError\u001b[0m: You can only execute one statement at a time."
          ]
        }
      ]
    },
    {
      "cell_type": "code",
      "source": [
        "cursor=conn.execute('''\n",
        "SELECT SSN, Name FROM  Employees\n",
        "WHERE Name='John' OR SSN=326587417;\n",
        "  ''')\n",
        "for row in cursor:\n",
        "  print(row)\n"
      ],
      "metadata": {
        "colab": {
          "base_uri": "https://localhost:8080/"
        },
        "collapsed": true,
        "id": "Ha_nVvcq-BHM",
        "outputId": "0f10b9bd-da1a-40f1-b762-f0b27872471e"
      },
      "execution_count": null,
      "outputs": [
        {
          "output_type": "stream",
          "name": "stdout",
          "text": [
            "(326587417, 'Joe')\n",
            "(546523478, 'John')\n"
          ]
        }
      ]
    },
    {
      "cell_type": "code",
      "source": [
        "cursor=conn.execute('''\n",
        "SELECT COUNT (SSN) FROM Employees;\n",
        "  ''')\n",
        "for row in cursor:\n",
        "  print(row)"
      ],
      "metadata": {
        "colab": {
          "base_uri": "https://localhost:8080/"
        },
        "id": "j2dc1-Ph_Gfn",
        "outputId": "df74d740-7749-48dc-b515-5b9ebd8e87ab"
      },
      "execution_count": null,
      "outputs": [
        {
          "output_type": "stream",
          "name": "stdout",
          "text": [
            "(11,)\n"
          ]
        }
      ]
    },
    {
      "cell_type": "code",
      "source": [
        "cursor=conn.execute('''\n",
        "SELECT COUNT (SSN) FROM Employees\n",
        "WHERE Salary>200;\n",
        "  ''')\n",
        "for row in cursor:\n",
        "  print(row)"
      ],
      "metadata": {
        "colab": {
          "base_uri": "https://localhost:8080/"
        },
        "id": "JnVY7DXNPB2w",
        "outputId": "c293af7a-2376-4398-9505-4aae63ee6ff7"
      },
      "execution_count": null,
      "outputs": [
        {
          "output_type": "stream",
          "name": "stdout",
          "text": [
            "(6,)\n"
          ]
        }
      ]
    },
    {
      "cell_type": "code",
      "source": [
        "cursor=conn.execute('''\n",
        "SELECT AVG(Salary) FROM Employees\n",
        "WHERE Salary>200;\n",
        "  ''')\n",
        "for row in cursor:\n",
        "  print(row);\n"
      ],
      "metadata": {
        "colab": {
          "base_uri": "https://localhost:8080/"
        },
        "id": "RuTwbGy1Rlf4",
        "outputId": "4cb0f483-9503-4b99-85a3-b072d6395978"
      },
      "execution_count": null,
      "outputs": [
        {
          "output_type": "stream",
          "name": "stdout",
          "text": [
            "(600.0,)\n"
          ]
        }
      ]
    },
    {
      "cell_type": "code",
      "source": [
        "cursor=conn.execute('''\n",
        "SELECT SSN FROM Employees\n",
        "WHERE SSN LIKE ' %65% ' ;\n",
        "  ''')\n",
        "for row in cursor:\n",
        "  print(row);\n"
      ],
      "metadata": {
        "collapsed": true,
        "id": "C1uRY9DgSNZX"
      },
      "execution_count": null,
      "outputs": []
    },
    {
      "cell_type": "code",
      "source": [
        "cursor=conn.execute('''\n",
        "SELECT SSN FROM Employees\n",
        "WHERE SSN LIKE ‘ __65% ;\n",
        "  ''')\n",
        "for row in cursor:\n",
        "  print(row);"
      ],
      "metadata": {
        "colab": {
          "base_uri": "https://localhost:8080/",
          "height": 211
        },
        "collapsed": true,
        "id": "PBcfcDtBWBOK",
        "outputId": "d98d9912-338f-4fd1-a3c1-6aeb320bdd9d"
      },
      "execution_count": null,
      "outputs": [
        {
          "output_type": "error",
          "ename": "OperationalError",
          "evalue": "near \"__65\": syntax error",
          "traceback": [
            "\u001b[0;31m---------------------------------------------------------------------------\u001b[0m",
            "\u001b[0;31mOperationalError\u001b[0m                          Traceback (most recent call last)",
            "\u001b[0;32m/tmp/ipython-input-49-4149916980.py\u001b[0m in \u001b[0;36m<cell line: 0>\u001b[0;34m()\u001b[0m\n\u001b[0;32m----> 1\u001b[0;31m cursor=conn.execute('''\n\u001b[0m\u001b[1;32m      2\u001b[0m \u001b[0mSELECT\u001b[0m \u001b[0mSSN\u001b[0m \u001b[0mFROM\u001b[0m \u001b[0mEmployees\u001b[0m\u001b[0;34m\u001b[0m\u001b[0;34m\u001b[0m\u001b[0m\n\u001b[1;32m      3\u001b[0m \u001b[0mWHERE\u001b[0m \u001b[0mSSN\u001b[0m \u001b[0mLIKE\u001b[0m\u001b[0;31m \u001b[0m\u001b[0;31m‘\u001b[0m \u001b[0m__65\u001b[0m\u001b[0;34m%\u001b[0m \u001b[0;34m;\u001b[0m\u001b[0;34m\u001b[0m\u001b[0;34m\u001b[0m\u001b[0m\n\u001b[1;32m      4\u001b[0m   ''')\n\u001b[1;32m      5\u001b[0m \u001b[0;32mfor\u001b[0m \u001b[0mrow\u001b[0m \u001b[0;32min\u001b[0m \u001b[0mcursor\u001b[0m\u001b[0;34m:\u001b[0m\u001b[0;34m\u001b[0m\u001b[0;34m\u001b[0m\u001b[0m\n",
            "\u001b[0;31mOperationalError\u001b[0m: near \"__65\": syntax error"
          ]
        }
      ]
    },
    {
      "cell_type": "code",
      "source": [],
      "metadata": {
        "id": "PHZ0_7lzWcmI"
      },
      "execution_count": null,
      "outputs": []
    }
  ]
}